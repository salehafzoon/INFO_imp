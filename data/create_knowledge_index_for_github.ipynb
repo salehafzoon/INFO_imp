{
 "cells": [
  {
   "cell_type": "code",
   "execution_count": 1,
   "metadata": {},
   "outputs": [],
   "source": [
    "#load train, val dataset of focus\n",
    "import os\n",
    "import json\n",
    "\n",
    "parent_dir = os.path.dirname(os.getcwd())\n",
    "with open(os.path.join(parent_dir, 'data/FoCus/train_focus.json'), 'r') as f:\n",
    "    \n",
    "    # train = json.load(f, encoding = 'utf-8')\n",
    "    train = json.load(f)\n",
    "    \n",
    "with open(os.path.join(parent_dir, 'data/FoCus/valid_focus.json'), 'r') as f:\n",
    "    \n",
    "    # val = json.load(f, encoding = 'utf-8')\n",
    "    val = json.load(f)\n",
    "    \n",
    "total_ = [train, val]"
   ]
  },
  {
   "cell_type": "code",
   "execution_count": 2,
   "metadata": {},
   "outputs": [],
   "source": [
    "from urllib.parse import urlparse\n",
    "import re\n",
    "\n",
    "def extract_title(url):\n",
    "    \n",
    "    rm_quot = re.sub(\"^\\'\", '', url)\n",
    "    path = urlparse(rm_quot).path\n",
    "    last_struct = re.sub('\\/wiki\\/', '', path)\n",
    "    \n",
    "    return last_struct"
   ]
  },
  {
   "cell_type": "code",
   "execution_count": 3,
   "metadata": {},
   "outputs": [],
   "source": [
    "#gen list with ttile and \n",
    "\n",
    "result = []\n",
    "\n",
    "for case in total_:\n",
    "\n",
    "    for data in case['data']:\n",
    "\n",
    "        title = extract_title(data['landmark_link'])\n",
    "\n",
    "        for para in data['knowledge']:\n",
    "\n",
    "            result.append([title, para])"
   ]
  },
  {
   "cell_type": "code",
   "execution_count": 4,
   "metadata": {},
   "outputs": [],
   "source": [
    "import pandas as pd\n",
    "\n",
    "result_pd = pd.DataFrame(result)\n",
    "result_pd = result_pd.drop_duplicates(keep = 'first')"
   ]
  },
  {
   "cell_type": "code",
   "execution_count": 5,
   "metadata": {},
   "outputs": [],
   "source": [
    "result_pd.to_csv('./knowledge_doc.csv', \n",
    "                 sep = '\\t',\n",
    "                encoding = 'utf-8',\n",
    "                header = None,\n",
    "                index = None)"
   ]
  },
  {
   "cell_type": "code",
   "execution_count": 6,
   "metadata": {},
   "outputs": [
    {
     "name": "stdout",
     "output_type": "stream",
     "text": [
      "1\n"
     ]
    }
   ],
   "source": [
    "import torch\n",
    "print(torch.cuda.device_count())\n"
   ]
  },
  {
   "cell_type": "code",
   "execution_count": 7,
   "metadata": {},
   "outputs": [
    {
     "data": {
      "text/plain": [
       "'cuda:0'"
      ]
     },
     "execution_count": 7,
     "metadata": {},
     "output_type": "execute_result"
    }
   ],
   "source": [
    "device = \"cuda:0\" if torch.cuda.is_available() else \"cpu\"\n",
    "device"
   ]
  },
  {
   "cell_type": "code",
   "execution_count": null,
   "metadata": {},
   "outputs": [],
   "source": []
  }
 ],
 "metadata": {
  "kernelspec": {
   "display_name": ".venv",
   "language": "python",
   "name": "python3"
  },
  "language_info": {
   "codemirror_mode": {
    "name": "ipython",
    "version": 3
   },
   "file_extension": ".py",
   "mimetype": "text/x-python",
   "name": "python",
   "nbconvert_exporter": "python",
   "pygments_lexer": "ipython3",
   "version": "3.10.12"
  },
  "orig_nbformat": 4,
  "pycharm": {
   "stem_cell": {
    "cell_type": "raw",
    "metadata": {
     "collapsed": false
    },
    "source": []
   }
  }
 },
 "nbformat": 4,
 "nbformat_minor": 2
}
